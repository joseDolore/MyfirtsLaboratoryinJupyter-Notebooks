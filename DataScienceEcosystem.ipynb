{
 "cells": [
  {
   "cell_type": "markdown",
   "id": "ffcbf72b-dd79-4fe7-b8f9-db740fe8b83d",
   "metadata": {},
   "source": [
    "# Data Science Tools and Ecosystem"
   ]
  },
  {
   "cell_type": "markdown",
   "id": "fdebc8d1-6001-422f-80a1-1b9b1aa4b20d",
   "metadata": {},
   "source": [
    "# En este cuaderno, se hara un resumen de lo aprendido del curso de ciencia de datos"
   ]
  },
  {
   "cell_type": "markdown",
   "id": "7d093056-93d8-4fff-8702-f07352cb5a31",
   "metadata": {},
   "source": [
    "# **Objetivos:**\n",
    "- Listar lenguajes populares para Ciencia de Datos.\n",
    "- Bibliotecas mas comunes usadas en ciencias de Datos.\n",
    "- Herramientas usadas en la Ciencias de Datos.\n",
    "- Operaciones basicas en Python."
   ]
  },
  {
   "cell_type": "markdown",
   "id": "a453e787-ae39-4b6c-8f82-dde10914ff29",
   "metadata": {},
   "source": [
    "# Algunos de los lenguajes populares que utilizan los científicos de datos son:\n",
    "1. Python\n",
    "2. R\n",
    "3. Java\n",
    "4. C#"
   ]
  },
  {
   "cell_type": "markdown",
   "id": "685c9a9a-78ff-4709-840f-a760da2fbefb",
   "metadata": {},
   "source": [
    "# Algunas de las bibliotecas comúnmente utilizadas por los científicos de datos incluyen:\n",
    "1. Numpy\n",
    "2. Pandas\n",
    "3. Matplotlib\n",
    "4. Seaborn\n",
    "5. Plotly\n",
    "6. Scikit-Learn - Libretia de Python de aprendizaje automatico"
   ]
  },
  {
   "cell_type": "markdown",
   "id": "efab94c4-0e23-463b-a884-424c8b3a7d63",
   "metadata": {},
   "source": [
    "|Herramientas de Ciencia de Datos|\n",
    "|--------------------------------|\n",
    "|MySQL|\n",
    "|PostgreSQL|\n",
    "|MongoDB|\n",
    "|SQLite1\n",
    "|Power Bi|\n",
    "|Apache Hadoop|\n",
    "|Apache Spark|\n",
    "|Git|\n",
    "\n"
   ]
  },
  {
   "cell_type": "markdown",
   "id": "67d51b37-3564-404e-a913-d56614f1d3dd",
   "metadata": {},
   "source": [
    "### A continuación, se presentan algunos ejemplos de evaluación de expresiones aritméticas en Python"
   ]
  },
  {
   "cell_type": "code",
   "execution_count": 4,
   "id": "deaf01aa-2b1e-4683-8079-05df2d7be409",
   "metadata": {},
   "outputs": [
    {
     "data": {
      "text/plain": [
       "17"
      ]
     },
     "execution_count": 4,
     "metadata": {},
     "output_type": "execute_result"
    }
   ],
   "source": [
    "# Esta es una expresión aritmética simple para multiplicar y luego sumar enteros\n",
    "(3*4)+5\n",
    "# El resultado es el siguiente:"
   ]
  },
  {
   "cell_type": "code",
   "execution_count": 7,
   "id": "045f9ab8-9c5b-4c39-a7ee-56d6a0272882",
   "metadata": {},
   "outputs": [
    {
     "data": {
      "text/plain": [
       "3.3333333333333335"
      ]
     },
     "execution_count": 7,
     "metadata": {},
     "output_type": "execute_result"
    }
   ],
   "source": [
    "# Esto convertirá 200 minutos a horas dividiendo por 60\n",
    "(200 / 60)"
   ]
  },
  {
   "cell_type": "markdown",
   "id": "1ed5612a-c4df-4097-ac0e-ca1dcffa0299",
   "metadata": {},
   "source": [
    "## Autor\n",
    "José Dolores Castro Hernández"
   ]
  },
  {
   "cell_type": "code",
   "execution_count": null,
   "id": "2c4e7ba1-347d-4c8a-ae85-251404152dba",
   "metadata": {},
   "outputs": [],
   "source": []
  }
 ],
 "metadata": {
  "kernelspec": {
   "display_name": "Python 3 (ipykernel)",
   "language": "python",
   "name": "python3"
  },
  "language_info": {
   "codemirror_mode": {
    "name": "ipython",
    "version": 3
   },
   "file_extension": ".py",
   "mimetype": "text/x-python",
   "name": "python",
   "nbconvert_exporter": "python",
   "pygments_lexer": "ipython3",
   "version": "3.12.9"
  }
 },
 "nbformat": 4,
 "nbformat_minor": 5
}
